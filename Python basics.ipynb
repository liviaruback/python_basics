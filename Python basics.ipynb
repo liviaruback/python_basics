{
 "cells": [
  {
   "cell_type": "markdown",
   "metadata": {},
   "source": [
    "# Variables "
   ]
  },
  {
   "cell_type": "code",
   "execution_count": 7,
   "metadata": {},
   "outputs": [
    {
     "data": {
      "text/plain": [
       "int"
      ]
     },
     "execution_count": 7,
     "metadata": {},
     "output_type": "execute_result"
    }
   ],
   "source": [
    "x = 1  # creates some memory space and puts there number 5\n",
    "x += 1 # increments variable x by 1\n",
    "7*x # seven times 7\n",
    "type(x)\n",
    "\n",
    "\n",
    "# brackets [   square brackets []  curly brackets {} colon :  comma ,  semi colon ; \n",
    "# ' single quotation marks \" double quotation marks\n",
    "# reserved works\n",
    "# x. -> tab completion"
   ]
  },
  {
   "cell_type": "markdown",
   "metadata": {},
   "source": [
    "# Operations with Strings"
   ]
  },
  {
   "cell_type": "code",
   "execution_count": 8,
   "metadata": {},
   "outputs": [
    {
     "data": {
      "text/plain": [
       "str"
      ]
     },
     "execution_count": 8,
     "metadata": {},
     "output_type": "execute_result"
    }
   ],
   "source": [
    "name = 'Lívia' # strings have to be in inverted commas or quotation marks\n",
    "name[0] # accessing the character in the first position of the string \n",
    "  # python is zero-indexing\n",
    "first_letter = name[0]\n",
    "name + name\n",
    "name*5 # we can mulpitly string by numbers\n",
    "type(name) # what type the number is"
   ]
  },
  {
   "cell_type": "markdown",
   "metadata": {},
   "source": [
    "# Strings slicing - accessing portions or characters of strings"
   ]
  },
  {
   "cell_type": "code",
   "execution_count": 16,
   "metadata": {},
   "outputs": [
    {
     "data": {
      "text/plain": [
       "'cegi'"
      ]
     },
     "execution_count": 16,
     "metadata": {},
     "output_type": "execute_result"
    }
   ],
   "source": [
    "my_string = 'abcdefghijklmnopqrstuvwxys'# identifier does not start with numbers, I like to have variables all lowercase\n",
    "my_string[:] # accessing all elements of that String\n",
    "my_string[:9] # starting at the beggining up to not including 9\n",
    "my_string[2:8] # into brackets: access a portion of a string, starts at 2, but not including 8\n",
    "my_string[2:10:1] # two colon   'cdefghij'\n",
    "my_string[2:10:2] # start at 2, go up to but not including 10, and going in steps of 2 'cegi'\n",
    "my_string[2::3] # 2 to the end in steps of 3\n",
    "my_string[::-1] # doing backwards (all element)\n",
    "#my_string"
   ]
  },
  {
   "cell_type": "markdown",
   "metadata": {},
   "source": [
    "# Strings methods"
   ]
  },
  {
   "cell_type": "code",
   "execution_count": 68,
   "metadata": {},
   "outputs": [
    {
     "data": {
      "text/plain": [
       "'As I was going to St Ives, I met a man with eight wives.'"
      ]
     },
     "execution_count": 68,
     "metadata": {},
     "output_type": "execute_result"
    }
   ],
   "source": [
    "my_string = 'As I was going to St Ives, I met a man with seven wives.'\n",
    "len(my_string) # it returns the lenght of the string, the string is XX characteres long\n",
    "my_string.upper() # to call methods we need to put brackets \n",
    "my_string.lower() # returns the string but it does it as lowercase\n",
    "my_string.split() # returns in squared brackets (list), each word as a list element\n",
    "my_string_pieces = my_string.split()\n",
    "my_string.count('a') # count the number of a particular character present in the string\n",
    "my_string.count('a') # count the number of a particular character present in the string\n",
    "my_string.find('seven') # returns the position of seven in the string\n",
    "my_string.find('seven') # returns the position of seven in the string\n",
    "my_string.replace('seven','eight') # replace seven with eight, but not changing the original variable\n",
    "#my_string"
   ]
  },
  {
   "cell_type": "markdown",
   "metadata": {},
   "source": [
    "# Strings formatting"
   ]
  },
  {
   "cell_type": "code",
   "execution_count": null,
   "metadata": {},
   "outputs": [],
   "source": [
    "print('My name is Livia \\n Ruback') # line breaking\n",
    "print('I\\'m Livia \\n Ruback') # Python thing that the apostrophe is the end of the string, \n",
    "# we can escape the I'm by putting a slash or using double quotation marks we dont need to escape\n",
    "# first_name = input('What is your first name?') # always take string\n",
    "# surname = input('What is your surname?')\n",
    "# print('Your full name is {} {} '.format(first_name, surname)) # curly brackets\n",
    "# print('Your name has {} characters'.format(len(first_name) + len(surname)))"
   ]
  },
  {
   "cell_type": "markdown",
   "metadata": {},
   "source": [
    "# Functions - reusing blocks of code"
   ]
  },
  {
   "cell_type": "code",
   "execution_count": 42,
   "metadata": {},
   "outputs": [],
   "source": [
    "# defining a function, giving it a name\n",
    "def name_length(): # functions always end with a colon\n",
    "    first_name = input('What is your first name?') # always take string\n",
    "    surname = input('What is your surname?')\n",
    "    print('Your full name is {} {} '.format(first_name, surname)) # curly brackets\n",
    "    print('Your name has {} characters'.format(len(first_name) + len(surname)))\n",
    "    return \n",
    "# we are gonna just call the function\n"
   ]
  },
  {
   "cell_type": "code",
   "execution_count": 44,
   "metadata": {},
   "outputs": [
    {
     "name": "stdout",
     "output_type": "stream",
     "text": [
      "What is your first name?Livia\n",
      "What is your surname?:Ruback\n",
      "Your full name is Livia Ruback \n",
      "Your name has 11 characters\n"
     ]
    }
   ],
   "source": [
    "name_length()"
   ]
  },
  {
   "cell_type": "markdown",
   "metadata": {},
   "source": [
    "# Python Lists - Manipulation"
   ]
  },
  {
   "cell_type": "code",
   "execution_count": 63,
   "metadata": {},
   "outputs": [
    {
     "data": {
      "text/plain": [
       "['one', 'two', 'three', 'five', 'three']"
      ]
     },
     "execution_count": 63,
     "metadata": {},
     "output_type": "execute_result"
    }
   ],
   "source": [
    "# how to modify and change lists\n",
    "new_list = ['one', 'two', 'three', 'four', 'five'] # lists elements\n",
    "new_list[3] # I want the element in the forth position of the list\n",
    "new_list[3] = 'seven' # lets change that element, in place of the element we now have the \n",
    "new_list.append('three') # adding a new element at the end of the list\n",
    "new_list.insert(2, 'house') # how and when we want to insert our new list element\n",
    "del new_list[2] # get rid of the element in that position\n",
    "new_list.remove('seven') # seven has gone\n",
    "new_list\n",
    "# for i in range(1,10):\n",
    "#     new_list.append(i)\n",
    "\n"
   ]
  },
  {
   "cell_type": "markdown",
   "metadata": {},
   "source": [
    "# Python Lists - More complex functions"
   ]
  },
  {
   "cell_type": "code",
   "execution_count": 66,
   "metadata": {},
   "outputs": [
    {
     "data": {
      "text/plain": [
       "[1, 2, 3, 'four', 'five', 'six', 7, 8, 9]"
      ]
     },
     "execution_count": 66,
     "metadata": {},
     "output_type": "execute_result"
    }
   ],
   "source": [
    "list1 = [1,2,3,'four', 'five','six'] # square brackets that define a list in Python and each element is separed by a comma\n",
    "list1 + [7,8,9] # joining two lists \n",
    "list1 += [7,8,9] # now we change the original list\n",
    "list1\n"
   ]
  },
  {
   "cell_type": "markdown",
   "metadata": {},
   "source": [
    "# Python Lists - Sorting"
   ]
  },
  {
   "cell_type": "code",
   "execution_count": null,
   "metadata": {},
   "outputs": [],
   "source": [
    "word_list = ['Apples','and', 'pears', 'night', 'Make', 'a', 'Very', '']"
   ]
  }
 ],
 "metadata": {
  "kernelspec": {
   "display_name": "Python 3",
   "language": "python",
   "name": "python3"
  },
  "language_info": {
   "codemirror_mode": {
    "name": "ipython",
    "version": 3
   },
   "file_extension": ".py",
   "mimetype": "text/x-python",
   "name": "python",
   "nbconvert_exporter": "python",
   "pygments_lexer": "ipython3",
   "version": "3.6.0"
  }
 },
 "nbformat": 4,
 "nbformat_minor": 2
}
