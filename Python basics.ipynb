{
 "cells": [
  {
   "cell_type": "markdown",
   "metadata": {},
   "source": [
    "# Variables "
   ]
  },
  {
   "cell_type": "code",
   "execution_count": 110,
   "metadata": {},
   "outputs": [
    {
     "ename": "SyntaxError",
     "evalue": "invalid syntax (<ipython-input-110-0896374e9c0c>, line 11)",
     "output_type": "error",
     "traceback": [
      "\u001b[0;36m  File \u001b[0;32m\"<ipython-input-110-0896374e9c0c>\"\u001b[0;36m, line \u001b[0;32m11\u001b[0m\n\u001b[0;31m    documentation:\u001b[0m\n\u001b[0m                  ^\u001b[0m\n\u001b[0;31mSyntaxError\u001b[0m\u001b[0;31m:\u001b[0m invalid syntax\n"
     ]
    }
   ],
   "source": [
    "x = 1  # creates some memory space and puts there number 5\n",
    "x += 1 # increments variable x by 1\n",
    "7*x # seven times 7\n",
    "type(x)\n",
    "\n",
    "\n",
    "# brackets [   square brackets []  curly brackets {} colon :  comma ,  semi colon ; \n",
    "# ' single quotation marks \" double quotation marks\n",
    "# reserved works\n",
    "# x. -> tab completion\n",
    "#documentation:     https://docs.python.org/3/"
   ]
  },
  {
   "cell_type": "markdown",
   "metadata": {},
   "source": [
    "# Operations with Strings"
   ]
  },
  {
   "cell_type": "code",
   "execution_count": 8,
   "metadata": {},
   "outputs": [
    {
     "data": {
      "text/plain": [
       "str"
      ]
     },
     "execution_count": 8,
     "metadata": {},
     "output_type": "execute_result"
    }
   ],
   "source": [
    "name = 'Lívia' # strings have to be in inverted commas or quotation marks\n",
    "name[0] # accessing the character in the first position of the string \n",
    "  # python is zero-indexing\n",
    "first_letter = name[0]\n",
    "name + name\n",
    "name*5 # we can mulpitly string by numbers\n",
    "type(name) # what type the number is"
   ]
  },
  {
   "cell_type": "markdown",
   "metadata": {},
   "source": [
    "# Strings slicing - accessing portions or characters of strings"
   ]
  },
  {
   "cell_type": "code",
   "execution_count": 16,
   "metadata": {},
   "outputs": [
    {
     "data": {
      "text/plain": [
       "'cegi'"
      ]
     },
     "execution_count": 16,
     "metadata": {},
     "output_type": "execute_result"
    }
   ],
   "source": [
    "my_string = 'abcdefghijklmnopqrstuvwxys'# identifier does not start with numbers, I like to have variables all lowercase\n",
    "my_string[:] # accessing all elements of that String\n",
    "my_string[:9] # starting at the beggining up to not including 9\n",
    "my_string[2:8] # into brackets: access a portion of a string, starts at 2, but not including 8\n",
    "my_string[2:10:1] # two colon   'cdefghij'\n",
    "my_string[2:10:2] # start at 2, go up to but not including 10, and going in steps of 2 'cegi'\n",
    "my_string[2::3] # 2 to the end in steps of 3\n",
    "my_string[::-1] # doing backwards (all element)\n",
    "#my_string"
   ]
  },
  {
   "cell_type": "markdown",
   "metadata": {},
   "source": [
    "# Strings methods"
   ]
  },
  {
   "cell_type": "code",
   "execution_count": 68,
   "metadata": {},
   "outputs": [
    {
     "data": {
      "text/plain": [
       "'As I was going to St Ives, I met a man with eight wives.'"
      ]
     },
     "execution_count": 68,
     "metadata": {},
     "output_type": "execute_result"
    }
   ],
   "source": [
    "my_string = 'As I was going to St Ives, I met a man with seven wives.'\n",
    "len(my_string) # it returns the lenght of the string, the string is XX characteres long\n",
    "my_string.upper() # to call methods we need to put brackets \n",
    "my_string.lower() # returns the string but it does it as lowercase\n",
    "my_string.split() # returns in squared brackets (list), each word as a list element\n",
    "my_string_pieces = my_string.split()\n",
    "my_string.count('a') # count the number of a particular character present in the string\n",
    "my_string.count('a') # count the number of a particular character present in the string\n",
    "my_string.find('seven') # returns the position of seven in the string\n",
    "my_string.find('seven') # returns the position of seven in the string\n",
    "my_string.replace('seven','eight') # replace seven with eight, but not changing the original variable\n",
    "#my_string"
   ]
  },
  {
   "cell_type": "markdown",
   "metadata": {},
   "source": [
    "# Strings formatting"
   ]
  },
  {
   "cell_type": "code",
   "execution_count": null,
   "metadata": {},
   "outputs": [],
   "source": [
    "print('My name is Livia \\n Ruback') # line breaking\n",
    "print('I\\'m Livia \\n Ruback') # Python thing that the apostrophe is the end of the string, \n",
    "# we can escape the I'm by putting a slash or using double quotation marks we dont need to escape\n",
    "# first_name = input('What is your first name?') # always take string\n",
    "# surname = input('What is your surname?')\n",
    "# print('Your full name is {} {} '.format(first_name, surname)) # curly brackets\n",
    "# print('Your name has {} characters'.format(len(first_name) + len(surname)))"
   ]
  },
  {
   "cell_type": "markdown",
   "metadata": {},
   "source": [
    "# Functions - reusing blocks of code"
   ]
  },
  {
   "cell_type": "code",
   "execution_count": 42,
   "metadata": {},
   "outputs": [],
   "source": [
    "# defining a function, giving it a name\n",
    "def name_length(): # functions always end with a colon\n",
    "    first_name = input('What is your first name?') # always take string\n",
    "    surname = input('What is your surname?')\n",
    "    print('Your full name is {} {} '.format(first_name, surname)) # curly brackets\n",
    "    print('Your name has {} characters'.format(len(first_name) + len(surname)))\n",
    "    return \n",
    "# we are gonna just call the function\n"
   ]
  },
  {
   "cell_type": "code",
   "execution_count": 44,
   "metadata": {},
   "outputs": [
    {
     "name": "stdout",
     "output_type": "stream",
     "text": [
      "What is your first name?Livia\n",
      "What is your surname?:Ruback\n",
      "Your full name is Livia Ruback \n",
      "Your name has 11 characters\n"
     ]
    }
   ],
   "source": [
    "name_length()"
   ]
  },
  {
   "cell_type": "markdown",
   "metadata": {},
   "source": [
    "# Python Lists - Manipulation"
   ]
  },
  {
   "cell_type": "code",
   "execution_count": 63,
   "metadata": {},
   "outputs": [
    {
     "data": {
      "text/plain": [
       "['one', 'two', 'three', 'five', 'three']"
      ]
     },
     "execution_count": 63,
     "metadata": {},
     "output_type": "execute_result"
    }
   ],
   "source": [
    "# how to modify and change lists\n",
    "new_list = ['one', 'two', 'three', 'four', 'five'] # lists elements\n",
    "new_list[3] # I want the element in the forth position of the list\n",
    "new_list[3] = 'seven' # lets change that element, in place of the element we now have the \n",
    "new_list.append('three') # adding a new element at the end of the list\n",
    "new_list.insert(2, 'house') # how and when we want to insert our new list element\n",
    "del new_list[2] # get rid of the element in that position\n",
    "new_list.remove('seven') # seven has gone\n",
    "new_list\n",
    "# for i in range(1,10):\n",
    "#     new_list.append(i)\n",
    "\n"
   ]
  },
  {
   "cell_type": "markdown",
   "metadata": {},
   "source": [
    "# Python Lists - More complex functions"
   ]
  },
  {
   "cell_type": "code",
   "execution_count": 83,
   "metadata": {},
   "outputs": [
    {
     "data": {
      "text/plain": [
       "[1, 2, 3, 'four', 'five', 'six', 7, 8, 9]"
      ]
     },
     "execution_count": 83,
     "metadata": {},
     "output_type": "execute_result"
    }
   ],
   "source": [
    "list1 = [1,2,3,'four', 'five','six'] # square brackets that define a list in Python and each element is separed by a comma\n",
    "list1 + [7,8,9] # joining two lists \n",
    "list1 += [7,8,9] # now we change the original list\n",
    "list1.extend([7,8,9]) # another way\n",
    "list1\n"
   ]
  },
  {
   "cell_type": "markdown",
   "metadata": {},
   "source": [
    "# Python Lists - Sorting"
   ]
  },
  {
   "cell_type": "code",
   "execution_count": 81,
   "metadata": {},
   "outputs": [
    {
     "data": {
      "text/plain": [
       "['pears', 'night', 'and', 'a', 'Very', 'Make', 18, 'Apples', '']"
      ]
     },
     "execution_count": 81,
     "metadata": {},
     "output_type": "execute_result"
    }
   ],
   "source": [
    "word_list = ['Apples','and', 'pears', 'night', 'Make', 'a', 'Very', ''] # some have capital letter as first letter and some don't\n",
    "word_list.sort() # puts the words with capital letter as first letter on the top\n",
    "word_list.reverse() # the same, but in reserve order \n",
    "word_list.insert(6, 18) # mixed list - insert in the position 6 the number 18\n",
    "word_list\n"
   ]
  },
  {
   "cell_type": "markdown",
   "metadata": {},
   "source": [
    "# The zip function - create a list of tuples (immutable)"
   ]
  },
  {
   "cell_type": "code",
   "execution_count": 88,
   "metadata": {},
   "outputs": [
    {
     "data": {
      "text/plain": [
       "[(1, 9), (2, 8), (3, 7)]"
      ]
     },
     "execution_count": 88,
     "metadata": {},
     "output_type": "execute_result"
    }
   ],
   "source": [
    "first_list = [1,2,3,4,5]\n",
    "second_list = ['a', 'b','c','d','e']\n",
    "new_list = list(zip(first_list, second_list)) # zip returns a tuple - an imutable object, takes the elements in order and combines them\n",
    "new_list2 = list(zip(second_list, first_list)) # the other way around\n",
    "third_list = [9,8,7] # lets create a third list\n",
    "new_list3 = list(zip(first_list, third_list)) # lets zip the first and the third list\n",
    "# What happens? We get only three tuples, zip list stops in the size of the shortest list \n",
    "\n",
    "new_list3"
   ]
  },
  {
   "cell_type": "markdown",
   "metadata": {},
   "source": [
    "# Python List Index and counting occurrences"
   ]
  },
  {
   "cell_type": "code",
   "execution_count": 97,
   "metadata": {},
   "outputs": [
    {
     "data": {
      "text/plain": [
       "True"
      ]
     },
     "execution_count": 97,
     "metadata": {},
     "output_type": "execute_result"
    }
   ],
   "source": [
    "# list of numbers and strings\n",
    "list1 = [1,2,3,4,5, 'five', 'four', 'three', 'two', 'one', 1,2,3,4,5,5,4,3,2,1,'one', 'two','three', 'four','five']\n",
    "list1.index('three') # returns the index of the element (its first occurrence)\n",
    "list1.count(3) # How many times 3 appears?\n",
    "list1.count('five') # 'five' appears twice\n",
    "'five' in list1 # check weather this string is in the list\n"
   ]
  },
  {
   "cell_type": "markdown",
   "metadata": {},
   "source": [
    "# Python List Slicing"
   ]
  },
  {
   "cell_type": "code",
   "execution_count": 106,
   "metadata": {},
   "outputs": [
    {
     "data": {
      "text/plain": [
       "[35, 38, 41, 44, 47]"
      ]
     },
     "execution_count": 106,
     "metadata": {},
     "output_type": "execute_result"
    }
   ],
   "source": [
    "new_list = list(range(50)) # range creates a list starting in 0 up to 50\n",
    "#new_list\n",
    "new_list[:] # take the whole list, if we leave them blank, it defaults to  beggining and the end\n",
    "new_list[-3:] # the last three elements\n",
    "new_list[4:9] # start in the element in the forth position up to the element in position 9, not including it \n",
    "new_list[::3] # take the whole list, in steps of 3\n",
    "new_list[-15::3] # the last 15 elements in steps of 3\n"
   ]
  },
  {
   "cell_type": "markdown",
   "metadata": {},
   "source": [
    "# Nested lists - lists that contain lists"
   ]
  },
  {
   "cell_type": "code",
   "execution_count": 109,
   "metadata": {},
   "outputs": [
    {
     "data": {
      "text/plain": [
       "6"
      ]
     },
     "execution_count": 109,
     "metadata": {},
     "output_type": "execute_result"
    }
   ],
   "source": [
    "nested_list = [[1,2,3],[4,5,6],[7,8,9]]\n",
    "nested_list[1] # the second element of the main list\n",
    "nested_list[1][2] # the third element of the second list"
   ]
  },
  {
   "cell_type": "markdown",
   "metadata": {},
   "source": [
    "# Testing empty lists"
   ]
  },
  {
   "cell_type": "code",
   "execution_count": 117,
   "metadata": {},
   "outputs": [
    {
     "name": "stdout",
     "output_type": "stream",
     "text": [
      "The list is empty\n"
     ]
    }
   ],
   "source": [
    "empty_list = []\n",
    "# The Python doc says that if returns false if the sequence is empty\n",
    "if not empty_list: # check The truth value testing https://docs.python.org/2.4/lib/truth.html\n",
    "    print(\"The list is empty\") \n",
    "else:\n",
    "    print(\"The list is not empty\")"
   ]
  },
  {
   "cell_type": "markdown",
   "metadata": {},
   "source": [
    "# Python dictionaries!"
   ]
  },
  {
   "cell_type": "code",
   "execution_count": 141,
   "metadata": {},
   "outputs": [
    {
     "data": {
      "text/plain": [
       "{0: 'a',\n",
       " 1: 'b',\n",
       " 2: 'c',\n",
       " 3: 'd',\n",
       " 4: 'e',\n",
       " 5: 'f',\n",
       " 6: 'g',\n",
       " 7: 'h',\n",
       " 8: 'i',\n",
       " 9: 'j'}"
      ]
     },
     "execution_count": 141,
     "metadata": {},
     "output_type": "execute_result"
    }
   ],
   "source": [
    "# Dictionaries consist of key-value pairs - items - separated by commas and key value pair are separated by colon\n",
    "# are declared within curly brackets. keys are immutable, can't change\n",
    "# useful for mapping one item to another, like stock prices\n",
    "d = {'key1':'value1','key2':'value2','key3':'value3'}\n",
    "d.items() # return the key-value pairs\n",
    "d.keys() # gives the list of keys\n",
    "d.values() # gives the list of keys\n",
    "\n",
    "d_keys = range(10) # uses the range function to create a dict  that goes from 0 to 9\n",
    "d_values = list('abcdefghij') # list functions turn the string into a list of characters\n",
    "dic = dict(zip(d_keys, d_values)) # creates a new dictionary using zip (pairs two list together and returns a single list)\n",
    "dic"
   ]
  },
  {
   "cell_type": "code",
   "execution_count": 142,
   "metadata": {},
   "outputs": [
    {
     "data": {
      "text/plain": [
       "'f'"
      ]
     },
     "execution_count": 142,
     "metadata": {},
     "output_type": "execute_result"
    }
   ],
   "source": [
    "dic[5] # gets the value associated with the key 5    in square brackets"
   ]
  },
  {
   "cell_type": "code",
   "execution_count": 143,
   "metadata": {},
   "outputs": [],
   "source": [
    "dic[5] = 'z'# changing the value associated with the key 5 to be z"
   ]
  },
  {
   "cell_type": "code",
   "execution_count": 144,
   "metadata": {},
   "outputs": [
    {
     "data": {
      "text/plain": [
       "'z'"
      ]
     },
     "execution_count": 144,
     "metadata": {},
     "output_type": "execute_result"
    }
   ],
   "source": [
    "dic[5]"
   ]
  },
  {
   "cell_type": "code",
   "execution_count": 145,
   "metadata": {},
   "outputs": [],
   "source": [
    "del dic[5] # function del deletes the key-value pair of key 5 from the dictionary"
   ]
  },
  {
   "cell_type": "code",
   "execution_count": 146,
   "metadata": {},
   "outputs": [
    {
     "data": {
      "text/plain": [
       "{0: 'a', 1: 'b', 2: 'c', 3: 'd', 4: 'e', 6: 'g', 7: 'h', 8: 'i', 9: 'j'}"
      ]
     },
     "execution_count": 146,
     "metadata": {},
     "output_type": "execute_result"
    }
   ],
   "source": [
    "dic"
   ]
  },
  {
   "cell_type": "code",
   "execution_count": 147,
   "metadata": {},
   "outputs": [
    {
     "data": {
      "text/plain": [
       "9"
      ]
     },
     "execution_count": 147,
     "metadata": {},
     "output_type": "execute_result"
    }
   ],
   "source": [
    "len(dic) # we can loot at the length of the dictionary"
   ]
  },
  {
   "cell_type": "code",
   "execution_count": 148,
   "metadata": {},
   "outputs": [
    {
     "data": {
      "text/plain": [
       "['a', 'b', 'c', 'd', 'e', 'g', 'h', 'i', 'j']"
      ]
     },
     "execution_count": 148,
     "metadata": {},
     "output_type": "execute_result"
    }
   ],
   "source": [
    "list(dic.values()) # We've created a dict from two lists. we can get lists backs from the dict"
   ]
  },
  {
   "cell_type": "code",
   "execution_count": 149,
   "metadata": {},
   "outputs": [
    {
     "data": {
      "text/plain": [
       "[0, 1, 2, 3, 4, 6, 7, 8, 9]"
      ]
     },
     "execution_count": 149,
     "metadata": {},
     "output_type": "execute_result"
    }
   ],
   "source": [
    "list(dic.keys())"
   ]
  },
  {
   "cell_type": "markdown",
   "metadata": {},
   "source": [
    "# Dictionary get - accessing a value associated with a key"
   ]
  },
  {
   "cell_type": "code",
   "execution_count": 150,
   "metadata": {},
   "outputs": [],
   "source": [
    "d = {'Open':90,'High':95, 'Low':85,'Close':92} # new dict"
   ]
  },
  {
   "cell_type": "code",
   "execution_count": 151,
   "metadata": {},
   "outputs": [
    {
     "data": {
      "text/plain": [
       "95"
      ]
     },
     "execution_count": 151,
     "metadata": {},
     "output_type": "execute_result"
    }
   ],
   "source": [
    "d['High'] # access the value associated with the key High"
   ]
  },
  {
   "cell_type": "code",
   "execution_count": 152,
   "metadata": {},
   "outputs": [
    {
     "ename": "KeyError",
     "evalue": "'aa'",
     "output_type": "error",
     "traceback": [
      "\u001b[0;31m---------------------------------------------------------------------------\u001b[0m",
      "\u001b[0;31mKeyError\u001b[0m                                  Traceback (most recent call last)",
      "\u001b[0;32m<ipython-input-152-bf15f095f8db>\u001b[0m in \u001b[0;36m<module>\u001b[0;34m()\u001b[0m\n\u001b[0;32m----> 1\u001b[0;31m \u001b[0md\u001b[0m\u001b[0;34m[\u001b[0m\u001b[0;34m'aa'\u001b[0m\u001b[0;34m]\u001b[0m \u001b[0;31m# What if we put in a key that don't exist?\u001b[0m\u001b[0;34m\u001b[0m\u001b[0m\n\u001b[0m",
      "\u001b[0;31mKeyError\u001b[0m: 'aa'"
     ]
    }
   ],
   "source": [
    "d['aa'] # What if we put in a key that don't exist?"
   ]
  },
  {
   "cell_type": "code",
   "execution_count": 155,
   "metadata": {},
   "outputs": [
    {
     "data": {
      "text/plain": [
       "0"
      ]
     },
     "execution_count": 155,
     "metadata": {},
     "output_type": "execute_result"
    }
   ],
   "source": [
    "d.get('ABC',0)# get function checks if a key exists, 0 is the default value if the key does not exist"
   ]
  },
  {
   "cell_type": "markdown",
   "metadata": {},
   "source": [
    "# Dictionary setdefault method"
   ]
  },
  {
   "cell_type": "code",
   "execution_count": 156,
   "metadata": {},
   "outputs": [
    {
     "data": {
      "text/plain": [
       "{'Close': 92, 'High': 95, 'Low': 85, 'Open': 90, 'aaa': 0}"
      ]
     },
     "execution_count": 156,
     "metadata": {},
     "output_type": "execute_result"
    }
   ],
   "source": [
    "d.setdefault('aaa', 0) # it searches through the dict, it look at the keys and assign a value to a key if it doesn not exist\n",
    "d"
   ]
  },
  {
   "cell_type": "code",
   "execution_count": 157,
   "metadata": {},
   "outputs": [
    {
     "data": {
      "text/plain": [
       "{'Close': 92, 'High': 95, 'Low': 85, 'Open': 90, 'aaa': 0}"
      ]
     },
     "execution_count": 157,
     "metadata": {},
     "output_type": "execute_result"
    }
   ],
   "source": [
    "d.setdefault('High', 100) # set 100 if High does not exist in the dict\n",
    "d # nothing is changed"
   ]
  },
  {
   "cell_type": "markdown",
   "metadata": {},
   "source": [
    "# Nested Dictionaries"
   ]
  },
  {
   "cell_type": "code",
   "execution_count": 161,
   "metadata": {},
   "outputs": [
    {
     "data": {
      "text/plain": [
       "{'20-12-17': {'Close': 92, 'High': 95, 'Low': 85, 'Open': 90}}"
      ]
     },
     "execution_count": 161,
     "metadata": {},
     "output_type": "execute_result"
    }
   ],
   "source": [
    "date = '20-12-17'\n",
    "d = {date:{'Open':90,'High':95, 'Low':85,'Close':92}} # key is date, the value is another dictionary = nested dictionary\n",
    "d"
   ]
  },
  {
   "cell_type": "code",
   "execution_count": 163,
   "metadata": {},
   "outputs": [
    {
     "data": {
      "text/plain": [
       "dict_items([('20-12-17', {'Open': 90, 'High': 95, 'Low': 85, 'Close': 92})])"
      ]
     },
     "execution_count": 163,
     "metadata": {},
     "output_type": "execute_result"
    }
   ],
   "source": [
    "d.items() # lets have a look at the items in this dictionary"
   ]
  },
  {
   "cell_type": "code",
   "execution_count": 159,
   "metadata": {},
   "outputs": [
    {
     "data": {
      "text/plain": [
       "85"
      ]
     },
     "execution_count": 159,
     "metadata": {},
     "output_type": "execute_result"
    }
   ],
   "source": [
    "d[date]['Low'] # acessing a value in a nested dictionary, in the first square bracket you put the key of the first dict and in the second squared bracket the key in the nested dict"
   ]
  },
  {
   "cell_type": "code",
   "execution_count": 164,
   "metadata": {},
   "outputs": [],
   "source": [
    "# a new dict, the value of Microsoft is another dict \n",
    "d_stock = {\n",
    "    'MSFT':{\n",
    "        '20-12-17':{'Open':90,'High':95, 'Low':85,'Close':92},\n",
    "        '21-12-17':{'Open':85,'High':90, 'Low':80,'Close':82}    \n",
    "     }    \n",
    "}"
   ]
  },
  {
   "cell_type": "code",
   "execution_count": 165,
   "metadata": {},
   "outputs": [
    {
     "data": {
      "text/plain": [
       "dict_items([('MSFT', {'20-12-17': {'Open': 90, 'High': 95, 'Low': 85, 'Close': 92}, '21-12-17': {'Open': 85, 'High': 90, 'Low': 80, 'Close': 82}})])"
      ]
     },
     "execution_count": 165,
     "metadata": {},
     "output_type": "execute_result"
    }
   ],
   "source": [
    "d_stock.items()"
   ]
  },
  {
   "cell_type": "code",
   "execution_count": 166,
   "metadata": {},
   "outputs": [
    {
     "data": {
      "text/plain": [
       "{'Close': 82, 'High': 90, 'Low': 80, 'Open': 85}"
      ]
     },
     "execution_count": 166,
     "metadata": {},
     "output_type": "execute_result"
    }
   ],
   "source": [
    "d_stock['MSFT'].items() # gets the key-value pairs in the dict that this key points to"
   ]
  },
  {
   "cell_type": "code",
   "execution_count": 168,
   "metadata": {},
   "outputs": [
    {
     "data": {
      "text/plain": [
       "{'Close': 82, 'High': 90, 'Low': 80, 'Open': 85}"
      ]
     },
     "execution_count": 168,
     "metadata": {},
     "output_type": "execute_result"
    }
   ],
   "source": [
    "d_stock['MSFT']['21-12-17'] # get the value that 'MSFT' points to and then get the value that '21-12-17' points to , which it itself a dictionary"
   ]
  },
  {
   "cell_type": "code",
   "execution_count": 169,
   "metadata": {},
   "outputs": [
    {
     "data": {
      "text/plain": [
       "dict_items([('Open', 85), ('High', 90), ('Low', 80), ('Close', 82)])"
      ]
     },
     "execution_count": 169,
     "metadata": {},
     "output_type": "execute_result"
    }
   ],
   "source": [
    "d_stock['MSFT']['21-12-17'].items()"
   ]
  },
  {
   "cell_type": "markdown",
   "metadata": {},
   "source": [
    "# Tuples are immutables, can't be changed - round brackets"
   ]
  },
  {
   "cell_type": "code",
   "execution_count": 174,
   "metadata": {},
   "outputs": [
    {
     "data": {
      "text/plain": [
       "(1, 2, 3, 4, 5, 6, 7, 8, 9)"
      ]
     },
     "execution_count": 174,
     "metadata": {},
     "output_type": "execute_result"
    }
   ],
   "source": [
    "new_tuple = (1,2,3,4,5,6,7,8,9)\n",
    "new_tuple"
   ]
  },
  {
   "cell_type": "code",
   "execution_count": 176,
   "metadata": {},
   "outputs": [
    {
     "data": {
      "text/plain": [
       "5"
      ]
     },
     "execution_count": 176,
     "metadata": {},
     "output_type": "execute_result"
    }
   ],
   "source": [
    "new_tuple[4] # indexing and slicing, remember Python is zero indexing"
   ]
  },
  {
   "cell_type": "code",
   "execution_count": 177,
   "metadata": {},
   "outputs": [
    {
     "data": {
      "text/plain": [
       "(3, 4, 5)"
      ]
     },
     "execution_count": 177,
     "metadata": {},
     "output_type": "execute_result"
    }
   ],
   "source": [
    "new_tuple[2:5] # Slicing tuples "
   ]
  },
  {
   "cell_type": "code",
   "execution_count": 183,
   "metadata": {},
   "outputs": [
    {
     "data": {
      "text/plain": [
       "(4, 5, 6, 7)"
      ]
     },
     "execution_count": 183,
     "metadata": {},
     "output_type": "execute_result"
    }
   ],
   "source": [
    "new_tuple[-6:-2] # go from the -6 position, starting to the end"
   ]
  },
  {
   "cell_type": "code",
   "execution_count": 184,
   "metadata": {},
   "outputs": [
    {
     "data": {
      "text/plain": [
       "[0, 'cat', 2, 3, 4]"
      ]
     },
     "execution_count": 184,
     "metadata": {},
     "output_type": "execute_result"
    }
   ],
   "source": [
    "my_list = [0,1,2,3,4] # changing a list element\n",
    "my_list[1] = 'cat'\n",
    "my_list"
   ]
  },
  {
   "cell_type": "code",
   "execution_count": 185,
   "metadata": {},
   "outputs": [
    {
     "ename": "TypeError",
     "evalue": "'tuple' object does not support item assignment",
     "output_type": "error",
     "traceback": [
      "\u001b[0;31m---------------------------------------------------------------------------\u001b[0m",
      "\u001b[0;31mTypeError\u001b[0m                                 Traceback (most recent call last)",
      "\u001b[0;32m<ipython-input-185-729d40afd9f8>\u001b[0m in \u001b[0;36m<module>\u001b[0;34m()\u001b[0m\n\u001b[0;32m----> 1\u001b[0;31m \u001b[0mnew_tuple\u001b[0m\u001b[0;34m[\u001b[0m\u001b[0;36m1\u001b[0m\u001b[0;34m]\u001b[0m \u001b[0;34m=\u001b[0m \u001b[0;34m'cat'\u001b[0m\u001b[0;34m\u001b[0m\u001b[0m\n\u001b[0m",
      "\u001b[0;31mTypeError\u001b[0m: 'tuple' object does not support item assignment"
     ]
    }
   ],
   "source": [
    "new_tuple[1] = 'cat' # we can't change"
   ]
  },
  {
   "cell_type": "code",
   "execution_count": 187,
   "metadata": {},
   "outputs": [
    {
     "data": {
      "text/plain": [
       "True"
      ]
     },
     "execution_count": 187,
     "metadata": {},
     "output_type": "execute_result"
    }
   ],
   "source": [
    "3 in new_tuple # cheching if an element belongs to a tuple"
   ]
  },
  {
   "cell_type": "code",
   "execution_count": 188,
   "metadata": {},
   "outputs": [
    {
     "data": {
      "text/plain": [
       "9"
      ]
     },
     "execution_count": 188,
     "metadata": {},
     "output_type": "execute_result"
    }
   ],
   "source": [
    "max(new_tuple) # returns the maximal number of a tuple"
   ]
  },
  {
   "cell_type": "code",
   "execution_count": 189,
   "metadata": {},
   "outputs": [
    {
     "data": {
      "text/plain": [
       "9"
      ]
     },
     "execution_count": 189,
     "metadata": {},
     "output_type": "execute_result"
    }
   ],
   "source": [
    "len(new_tuple) # returns the number of elements of the tuple"
   ]
  },
  {
   "cell_type": "code",
   "execution_count": 191,
   "metadata": {},
   "outputs": [
    {
     "data": {
      "text/plain": [
       "45"
      ]
     },
     "execution_count": 191,
     "metadata": {},
     "output_type": "execute_result"
    }
   ],
   "source": [
    "sum(new_tuple) # sum the tuple"
   ]
  },
  {
   "cell_type": "code",
   "execution_count": 194,
   "metadata": {},
   "outputs": [
    {
     "data": {
      "text/plain": [
       "[1, 2, 3, 4, 5, 6, 7, 8, 9]"
      ]
     },
     "execution_count": 194,
     "metadata": {},
     "output_type": "execute_result"
    }
   ],
   "source": [
    "sorted(new_tuple) # returns a list of that list with sorted elements, but don't change the tuples "
   ]
  },
  {
   "cell_type": "markdown",
   "metadata": {},
   "source": [
    "# Difference between Lists and Tuples in Python:\n",
    "Lists are mutable and tuples are immutable\n",
    "\n",
    "### More importantly:\n",
    " 1. Lists are homogeneous sequences\n",
    " \n",
    " 2. Tuples are heterogeneous data structures\n"
   ]
  },
  {
   "cell_type": "code",
   "execution_count": 195,
   "metadata": {},
   "outputs": [],
   "source": [
    "point_in_space = (3,4,5) # this itself is a data structure, that will not change"
   ]
  },
  {
   "cell_type": "code",
   "execution_count": 196,
   "metadata": {},
   "outputs": [],
   "source": [
    "p1 = (3,4,6) # more tuples\n",
    "p2 = (4,5,2)\n",
    "p3 = (2,4,3)\n",
    "p4 = (2,5,3)"
   ]
  },
  {
   "cell_type": "code",
   "execution_count": 197,
   "metadata": {},
   "outputs": [],
   "source": [
    "list_of_points = [point_in_space,p1,p2,p3,p4] # list of points, that are tuples"
   ]
  },
  {
   "cell_type": "code",
   "execution_count": 198,
   "metadata": {},
   "outputs": [
    {
     "data": {
      "text/plain": [
       "[(3, 4, 5), (3, 4, 6), (4, 5, 2), (2, 4, 3), (2, 5, 3)]"
      ]
     },
     "execution_count": 198,
     "metadata": {},
     "output_type": "execute_result"
    }
   ],
   "source": [
    "list_of_points"
   ]
  },
  {
   "cell_type": "markdown",
   "metadata": {},
   "source": [
    "# Python if statement "
   ]
  },
  {
   "cell_type": "code",
   "execution_count": 199,
   "metadata": {},
   "outputs": [
    {
     "name": "stdout",
     "output_type": "stream",
     "text": [
      "You should stop\n"
     ]
    }
   ],
   "source": [
    "# Allow us to test for a particular value and depending on the outcome of that test we can perform a different task\n",
    "light = 'red' # one equal sign, its setting this value to the variable\n",
    "if light == 'red': # if this if statement is true, run the code cointained. always put the colon in the end of the statement and you must ident the bit of code by 4 spaces\n",
    "    print('You should stop')"
   ]
  },
  {
   "cell_type": "code",
   "execution_count": 200,
   "metadata": {},
   "outputs": [
    {
     "data": {
      "text/plain": [
       "'red'"
      ]
     },
     "execution_count": 200,
     "metadata": {},
     "output_type": "execute_result"
    }
   ],
   "source": [
    "light"
   ]
  },
  {
   "cell_type": "code",
   "execution_count": 201,
   "metadata": {},
   "outputs": [
    {
     "data": {
      "text/plain": [
       "True"
      ]
     },
     "execution_count": 201,
     "metadata": {},
     "output_type": "execute_result"
    }
   ],
   "source": [
    "light == 'red' # testing for a value being true of false, use two equal signs"
   ]
  },
  {
   "cell_type": "code",
   "execution_count": 209,
   "metadata": {},
   "outputs": [
    {
     "name": "stdout",
     "output_type": "stream",
     "text": [
      "You must stop\n"
     ]
    }
   ],
   "source": [
    "light = 'red'\n",
    "if light == 'red': #first statement, check if this condition is true\n",
    "    print('You must stop')\n",
    "elif light == 'green': # elif is a continuation of the if statement\n",
    "    print('You can go')\n",
    "else: # if the previous statements are not true, it defaults to here\n",
    "    print('The light don\\'t seems to be working!')"
   ]
  },
  {
   "cell_type": "markdown",
   "metadata": {},
   "source": [
    "# Python foor loops\n",
    "#### -> a way of performing repetitive tasks in Python. It enables you to iterate through an (iterable) Object like lists and dictionaries"
   ]
  },
  {
   "cell_type": "code",
   "execution_count": 210,
   "metadata": {},
   "outputs": [
    {
     "data": {
      "text/plain": [
       "range(0, 10)"
      ]
     },
     "execution_count": 210,
     "metadata": {},
     "output_type": "execute_result"
    }
   ],
   "source": [
    "number_list = range(10) # range functions creates a list of numbers\n",
    "number_list"
   ]
  },
  {
   "cell_type": "code",
   "execution_count": 219,
   "metadata": {},
   "outputs": [
    {
     "name": "stdout",
     "output_type": "stream",
     "text": [
      "0\n",
      "1\n",
      "2\n",
      "3\n",
      "4\n",
      "5\n",
      "6\n",
      "7\n",
      "8\n",
      "9\n"
     ]
    }
   ],
   "source": [
    "for number in number_list: # to declare the for loop you put the variable, in, colon, \n",
    "    # for each item in this number list, we are gonna do something\n",
    "    print(number) #indent 4 spaces in the next instruction"
   ]
  },
  {
   "cell_type": "code",
   "execution_count": 212,
   "metadata": {},
   "outputs": [
    {
     "data": {
      "text/plain": [
       "[0, 1, 4, 9, 16, 25, 36, 49, 64, 81]"
      ]
     },
     "execution_count": 212,
     "metadata": {},
     "output_type": "execute_result"
    }
   ],
   "source": [
    "new_list = [] # a ne list with nothing in it\n",
    "for number in number_list:\n",
    "    square = number*number # number squared\n",
    "    new_list.append(square) # append it to the new list\n",
    "new_list"
   ]
  },
  {
   "cell_type": "code",
   "execution_count": 222,
   "metadata": {},
   "outputs": [
    {
     "name": "stdout",
     "output_type": "stream",
     "text": [
      "We are currently at index 0 which has a value of 0\n",
      "We are currently at index 1 which has a value of 1\n",
      "We are currently at index 2 which has a value of 4\n",
      "We are currently at index 3 which has a value of 9\n",
      "We are currently at index 4 which has a value of 16\n",
      "We are currently at index 5 which has a value of 25\n",
      "We are currently at index 6 which has a value of 36\n",
      "We are currently at index 7 which has a value of 49\n",
      "We are currently at index 8 which has a value of 64\n",
      "We are currently at index 9 which has a value of 81\n",
      "That's it! We've reached the end of the list!\n"
     ]
    }
   ],
   "source": [
    "for number in new_list:\n",
    "    print('We are currently at index',new_list.index(number),'which has a value of', number)\n",
    "print('That\\'s it! We\\'ve reached the end of the list!')\n"
   ]
  },
  {
   "cell_type": "code",
   "execution_count": 225,
   "metadata": {},
   "outputs": [
    {
     "name": "stdout",
     "output_type": "stream",
     "text": [
      "0 is not divisible by 5. \n",
      "\n",
      "1 is not divisible by 5. \n",
      "\n",
      "4 is not divisible by 5. \n",
      "\n",
      "9 is not divisible by 5. \n",
      "\n",
      "16 is not divisible by 5. \n",
      "\n",
      "25 is divisible by 5 and has a index value of 5 \n",
      "\n",
      "36 is not divisible by 5. \n",
      "\n",
      "49 is not divisible by 5. \n",
      "\n",
      "64 is not divisible by 5. \n",
      "\n",
      "81 is not divisible by 5. \n",
      "\n"
     ]
    }
   ],
   "source": [
    "for number in new_list: # finding the numbers divisible by 5\n",
    "    if number%5 == 0 and number != 0:\n",
    "        print(str(number), 'is divisible by 5 and has a index value of', new_list.index(number), '\\n')\n",
    "    else:\n",
    "        print(str(number), 'is not divisible by 5. \\n')"
   ]
  },
  {
   "cell_type": "markdown",
   "metadata": {},
   "source": [
    "# Python Enumerate\n",
    "\n",
    "### Built-in function that adds a counter to an iterable\n",
    "-> Ex.: in a for loop over  alist, enumerate gives you a counter "
   ]
  },
  {
   "cell_type": "code",
   "execution_count": 226,
   "metadata": {},
   "outputs": [
    {
     "data": {
      "text/plain": [
       "['once', 'upon', 'a', 'time']"
      ]
     },
     "execution_count": 226,
     "metadata": {},
     "output_type": "execute_result"
    }
   ],
   "source": [
    "new_list = ['once','upon','a','time']"
   ]
  },
  {
   "cell_type": "code",
   "execution_count": 229,
   "metadata": {},
   "outputs": [
    {
     "name": "stdout",
     "output_type": "stream",
     "text": [
      "[(0, 'once'), (1, 'upon'), (2, 'a'), (3, 'time')]\n"
     ]
    }
   ],
   "source": [
    "print(list(enumerate(new_list)))\n",
    "# it returns tuples of counter-value"
   ]
  },
  {
   "cell_type": "code",
   "execution_count": 232,
   "metadata": {},
   "outputs": [
    {
     "name": "stdout",
     "output_type": "stream",
     "text": [
      "[(12, 'once'), (13, 'upon'), (14, 'a'), (15, 'time')]\n"
     ]
    }
   ],
   "source": [
    "print(list(enumerate(new_list, start=12))) # adding the parameter start\n"
   ]
  },
  {
   "cell_type": "code",
   "execution_count": null,
   "metadata": {},
   "outputs": [],
   "source": []
  }
 ],
 "metadata": {
  "kernelspec": {
   "display_name": "Python 3",
   "language": "python",
   "name": "python3"
  },
  "language_info": {
   "codemirror_mode": {
    "name": "ipython",
    "version": 3
   },
   "file_extension": ".py",
   "mimetype": "text/x-python",
   "name": "python",
   "nbconvert_exporter": "python",
   "pygments_lexer": "ipython3",
   "version": "3.6.0"
  }
 },
 "nbformat": 4,
 "nbformat_minor": 2
}
